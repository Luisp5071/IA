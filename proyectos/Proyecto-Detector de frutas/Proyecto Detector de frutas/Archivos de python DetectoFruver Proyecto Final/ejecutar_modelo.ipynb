{
 "cells": [
  {
   "cell_type": "code",
   "execution_count": 1,
   "metadata": {},
   "outputs": [
    {
     "ename": "error",
     "evalue": "/io/opencv/modules/imgproc/src/imgwarp.cpp:3483: error: (-215) ssize.width > 0 && ssize.height > 0 in function resize\n",
     "output_type": "error",
     "traceback": [
      "\u001b[0;31m---------------------------------------------------------------------------\u001b[0m",
      "\u001b[0;31merror\u001b[0m                                     Traceback (most recent call last)",
      "\u001b[0;32m<ipython-input-1-e2e7eabb166b>\u001b[0m in \u001b[0;36m<module>\u001b[0;34m()\u001b[0m\n\u001b[1;32m     15\u001b[0m \u001b[0mimage\u001b[0m \u001b[0;34m=\u001b[0m \u001b[0mcv2\u001b[0m\u001b[0;34m.\u001b[0m\u001b[0mimread\u001b[0m\u001b[0;34m(\u001b[0m\u001b[0mfilename\u001b[0m\u001b[0;34m)\u001b[0m\u001b[0;34m\u001b[0m\u001b[0m\n\u001b[1;32m     16\u001b[0m \u001b[0;31m# Resizing the image to our desired size and preprocessing will be done exactly as done during training\u001b[0m\u001b[0;34m\u001b[0m\u001b[0;34m\u001b[0m\u001b[0m\n\u001b[0;32m---> 17\u001b[0;31m \u001b[0mimage\u001b[0m \u001b[0;34m=\u001b[0m \u001b[0mcv2\u001b[0m\u001b[0;34m.\u001b[0m\u001b[0mresize\u001b[0m\u001b[0;34m(\u001b[0m\u001b[0mimage\u001b[0m\u001b[0;34m,\u001b[0m \u001b[0;34m(\u001b[0m\u001b[0mimage_size\u001b[0m\u001b[0;34m,\u001b[0m \u001b[0mimage_size\u001b[0m\u001b[0;34m)\u001b[0m\u001b[0;34m,\u001b[0m \u001b[0mcv2\u001b[0m\u001b[0;34m.\u001b[0m\u001b[0mINTER_LINEAR\u001b[0m\u001b[0;34m)\u001b[0m\u001b[0;34m\u001b[0m\u001b[0m\n\u001b[0m\u001b[1;32m     18\u001b[0m \u001b[0mimages\u001b[0m\u001b[0;34m.\u001b[0m\u001b[0mappend\u001b[0m\u001b[0;34m(\u001b[0m\u001b[0mimage\u001b[0m\u001b[0;34m)\u001b[0m\u001b[0;34m\u001b[0m\u001b[0m\n\u001b[1;32m     19\u001b[0m \u001b[0mimages\u001b[0m \u001b[0;34m=\u001b[0m \u001b[0mnp\u001b[0m\u001b[0;34m.\u001b[0m\u001b[0marray\u001b[0m\u001b[0;34m(\u001b[0m\u001b[0mimages\u001b[0m\u001b[0;34m,\u001b[0m \u001b[0mdtype\u001b[0m\u001b[0;34m=\u001b[0m\u001b[0mnp\u001b[0m\u001b[0;34m.\u001b[0m\u001b[0muint8\u001b[0m\u001b[0;34m)\u001b[0m\u001b[0;34m\u001b[0m\u001b[0m\n",
      "\u001b[0;31merror\u001b[0m: /io/opencv/modules/imgproc/src/imgwarp.cpp:3483: error: (-215) ssize.width > 0 && ssize.height > 0 in function resize\n"
     ]
    }
   ],
   "source": [
    "import tensorflow as tf #Forma estandar de importa tensorflow\n",
    "import numpy as np      #Librería que permite trabajar con vectores, matrices y funciones matemáticas de alto nivel  \n",
    "import os,glob,cv2      #Librerías que permiten trabajar con las imagenes del paquete      \n",
    "import sys,argparse     #argparse permiten análisis de línea de comandos\n",
    "                        #sys provee acceso a funciones y objetos mantenidos por el intérprete\n",
    "\n",
    "\n",
    "# Primero pasamos la ruta de las imágnes o path\n",
    "dir_path = os.path.dirname(os.path.realpath(\"__file__\"))\n",
    "image_path=\"/home/ecrio/Escritorio/training_data\"\n",
    "filename = image_path\n",
    "image_size=128  #Se convierten las imágenes a 128 bit\n",
    "num_channels=3  #Variable que se iguala a 3 para hacer referencia a los dos sets de imagenes training, testing y el canal de datos para obtención de las salida\n",
    "images = [] #Convierte las imagenes en una matriz\n",
    "\n",
    "# Leyendo las imagenes con la librería OpenCV\n",
    "image = cv2.imread(filename)\n",
    "\n",
    "#Cambiar el tamaño de la imagen a nuestro tamaño deseado\n",
    "#y preprocesamiento se hará exactamente como se hizo durante el entrenamiento\n",
    "image = cv2.resize(image, (image_size, image_size), cv2.INTER_LINEAR)\n",
    "images.append(image)\n",
    "images = np.array(images, dtype=np.uint8)\n",
    "images = images.astype('float32')\n",
    "images = np.multiply(images, 1.0/255.0) \n",
    "\n",
    "#La entrada a la red tiene forma (formato que permite recibir cualquier valor) \n",
    "#[None image_size image_size num_channels]. Formato default de valor nulo que nos permite reformar \n",
    "x_batch = images.reshape(1, image_size,image_size,num_channels)\n",
    " \n",
    "## Permite restaurar el modelo guardado  \n",
    "sess = tf.Session()\n",
    "\n",
    "# Paso-1: Se crea la red de grafos.\n",
    "saver = tf.train.import_meta_graph('modelo.meta')\n",
    "\n",
    "# Step-2: Ahora cargamos los pesos usando el método de restauración.\n",
    "saver.restore(sess, tf.train.latest_checkpoint('./'))\n",
    "\n",
    "# Accesando al grafo que hemos restaurado.\n",
    "graph = tf.get_default_graph()\n",
    "\n",
    "#Ahora, tomemos las operaciones que podemos procesar para obtener la salida\n",
    "#En la red original y_pred es el tensor que es la predicción de la red\n",
    "y_pred = graph.get_tensor_by_name(\"y_pred:0\")\n",
    "\n",
    "#Vamos a alimentar el modelo con las imágenes de entrada\n",
    "x= graph.get_tensor_by_name(\"x:0\") \n",
    "y_true = graph.get_tensor_by_name(\"y_true:0\") \n",
    "y_test_images = np.zeros((1, 3)) \n",
    "\n",
    "#Creando el feed_dict que se requiere alimentar para calcular y_pred que es la predicción de salida\n",
    "feed_dict_testing = {x: x_batch, y_true: y_test_images}\n",
    "result=sess.run(y_pred, feed_dict=feed_dict_testing)\n",
    "\n",
    "\n",
    "#Imprimimos result que es la variable que contiene el resultado final de la predicción.\n",
    "print(result)\n"
   ]
  },
  {
   "cell_type": "code",
   "execution_count": null,
   "metadata": {
    "collapsed": true
   },
   "outputs": [],
   "source": []
  }
 ],
 "metadata": {
  "kernelspec": {
   "display_name": "Python 2",
   "language": "python",
   "name": "python2"
  },
  "language_info": {
   "codemirror_mode": {
    "name": "ipython",
    "version": 2
   },
   "file_extension": ".py",
   "mimetype": "text/x-python",
   "name": "python",
   "nbconvert_exporter": "python",
   "pygments_lexer": "ipython2",
   "version": "2.7.12"
  }
 },
 "nbformat": 4,
 "nbformat_minor": 2
}
