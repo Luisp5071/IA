{
 "cells": [
  {
   "cell_type": "raw",
   "metadata": {
    "collapsed": false
   },
   "source": [
    "## Logits\n",
    "\n",
    "En varias de la funciones de tensorflow aparece el parametro \"logits\", este parametro es usado como un parametro de entrada en el rango [-infinito,+infinito], es decir que los numero de puede ser menores o superiores a [0,1].    Entonces \"logits\" es una funcion que mapea las probabilidades de que se encuentren en el rango [0,1] a [-infinito, +infinito], por ejemplo, si la probabilidad de un numero en el rango [0,1]  es de 0.5, entonces el valor de logits es 0, esto quiere decir que si el valor de una probabilidad es menor a 0.5, entonces el valor de probabilidad para logits es de negativo y si el valor de una probabilidad es mayor a 0.5 entonces el valor de probabilidad de logits es positivo.\n",
    "\n",
    "La diferencia de una funcion softmax y una funcion logits es que la funcion logits mapea las probabilidad de [0,1] a [-infinito,+infinito] y la funcion softmax, mapea las probabilidad de [-infinito,+infinito] a [0,1].   Una funcion softmax es normalizadora porque convierte los valores de las probabilidades en un rango entre [0,1] y la suma de todas las probabilidades es 1.\n",
    "\n",
    "Cuando una funcion en tensorflow incluye logits, quiere decir que el tensor de entrada no esta normalizado, este tensor tiene las probabilidades en el rango [-infinito, +infinito].  Por ejemplo la funcion tf.nn.softmax_cross_entropy_with_logits contiene en su nombre \"with_logits\", denota que la funcion utiliza logits, pero debemos conocer los parametros que recibe la funcion para determinar si en efecto usa logits.   Cuando una funcion utiliza logits, recibe un tensor como entrada y el resultado es un tensor normalizado.  Otra funcion que recibe de parametro un tensor es tf.nn.softmax, aunque en su nombre no lo indica, en sus parametros de puede identificar logits.   La funcion softmax debe ser declarada de la siguiente forma:\n",
    "\n",
    "    - softmax(logits,dim=-1,name=None)\n"
   ]
  }
 ],
 "metadata": {
  "kernelspec": {
   "display_name": "Python 3 (Anaconda)",
   "language": "python",
   "name": "anaconda3"
  },
  "language_info": {
   "codemirror_mode": {
    "name": "ipython",
    "version": 3
   },
   "file_extension": ".py",
   "mimetype": "text/x-python",
   "name": "python",
   "nbconvert_exporter": "python",
   "pygments_lexer": "ipython3",
   "version": "3.5.4"
  }
 },
 "nbformat": 4,
 "nbformat_minor": 0
}