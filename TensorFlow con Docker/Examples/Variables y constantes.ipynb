{
 "cells": [
  {
   "cell_type": "markdown",
   "metadata": {
    "collapsed": false
   },
   "source": [
    "# Variables y constantes\n",
    "Los datos se puede pre-cargar en memoria de dos formas, la primera es con variables y la segunda es con constantes.\n",
    "\n",
    "  EJEMPLO            DESCRIPCION\n",
    "* tf.constant(...)   constante\n",
    "* tf.Variable(...)   variable\n",
    "\n",
    "\n",
    "## Constantes\n",
    "Las operaciones utilizadas para constantes son:\n",
    "\n",
    "| Opercion | Descripcion |\n",
    "| ------ | ------ |\n",
    "| tf.zeros_like | Crear un tensor con todos los elementos inicializados a 0 |\n",
    "| tf.ones | Crear un tensor con todos los elementos inicializados a 1 |\n",
    "| tf.ones_like | Crear un tensor con todos los elementos inicializados a 1 |\n",
    "| tf.fill | Crear un tensor con todos los elementos inicializados con un valor scalar pasado como argumento |\n",
    "| tf.constant | Crear un tensor de constantes con los elmentos indicados como argumento |\n",
    "\n",
    "## Valores Random\n",
    "En tensorflow los modelos se entrenan con tensores, estos tensores tiene parametros en memoria en forma de variables.  Cuando se crea una variable se le pasa un tensor como argumento como valor inicial.\n",
    "\n",
    "Para iniciar la operaciones random es necesario especificar la forma o shape del tensor en los argumentos.\n",
    "\n",
    "Si desea guardar una variable en disco durante y después del entramento del modelo, se puede hacer mediante:\n",
    "```\n",
    "    tf.train.Saver\n",
    "```\n",
    "\n",
    "Los tensores pueden contener valores random, las operaciones random son listadas a continuacion:\n",
    "\n",
    "| Opercion | Descripcion |\n",
    "| ------ | ------ |\n",
    "| tf.random_normal | Valores random con una distribución normal, con una media y desviación estándar indicadas como argumentos |\n",
    "| tf.truncated_normal | Igual que la anterior pero eliminado aquellos valores cuya margnitud es más de 2 veces la desviación estándard |\n",
    "| tf.random_uniform | Valores random con una distribución uniforme de un rango indicado en los argumentos |\n",
    "| tf.random_shuffle | Mezclados aleatoriamente los elementos de un tensor en su primera dimensión |\n",
    "| tf.set_random_seed | Establece la semilla aleatoria a nivel de grafo |\n",
    "\n",
    "Las variables tienen que inicializarse antes de la ejecución o de la sentencia \n",
    "```\n",
    "    run()\n",
    "```\n",
    "Para ello existe el comando\n",
    "```\n",
    "    tf.initialize_all_variables()\n",
    "```\n",
    "\n",
    "## Variables\n",
    "Las variables simbólicas o placeholder son utilizadas para manipular los valores de las variables durante la ejecución del programa."
   ]
  },
  {
   "cell_type": "markdown",
   "metadata": {
    "collapsed": false
   },
   "source": [
    "## Ejemplo 1, suma de dos variables\n",
    "El siguiente ejemplo utiliza dos variables valueOne y valueTwo. Se declara un tensor con nombre \"tensor\", la operacion asociada es una suma \"tf.add\".\n",
    "Dentro de la sessión se asignan los valores a los parámetros del tensor. sess.run(tensor,feed_dict={parametroA: valorA}).   feed_dict es un argumento utilizado para especificar los valores de los parametros del tensor, por ejemplo, al parametroA se le asigna el valorA."
   ]
  },
  {
   "cell_type": "code",
   "execution_count": 4,
   "metadata": {
    "collapsed": false
   },
   "outputs": [
    {
     "name": "stdout",
     "output_type": "stream",
     "text": [
      "30\n"
     ]
    }
   ],
   "source": [
    "import tensorflow as tf\n",
    "valueOne = tf.placeholder(\"int16\")\n",
    "valueTwo = tf.placeholder(tf.int16)\n",
    "tensor = tf.add(valueOne,valueTwo)\n",
    "with tf.Session() as sess:\n",
    "    result= sess.run(tensor,feed_dict={valueOne:10,valueTwo:20})\n",
    "    print(result)"
   ]
  },
  {
   "cell_type": "code",
   "execution_count": 0,
   "metadata": {
    "collapsed": false
   },
   "outputs": [
   ],
   "source": [
    "# Ejemplo 2, generar numero aleatorios.\n",
    "Los numero son generados con la operacion random.normal(media,desviación estándard)."
   ]
  },
  {
   "cell_type": "code",
   "execution_count": 0,
   "metadata": {
    "collapsed": false
   },
   "outputs": [
   ],
   "source": [
   ]
  },
  {
   "cell_type": "code",
   "execution_count": 17,
   "metadata": {
    "collapsed": false,
    "scrolled": true
   },
   "outputs": [
    {
     "name": "stdout",
     "output_type": "stream",
     "text": [
      "llenar vector con 10 numeros\n",
      "Mostrar vectos de 10 numeros\n",
      "Numero 0 valor [0.22661391703235864, -0.5307193420757751]\n",
      "Numero 1 valor [0.368052725379258, 1.7080609370129318]\n",
      "Numero 2 valor [0.8527483221759579, 0.10911553672472019]\n",
      "Numero 3 valor [-0.5355813885871594, 1.837361544674966]\n",
      "Numero 4 valor [0.4442447114815167, 0.08980535432691239]\n",
      "Numero 5 valor [-1.0636348898151609, 0.3396175660166928]\n",
      "Numero 6 valor [0.3339682071424177, 1.3566077388748523]\n",
      "Numero 7 valor [0.3604223817045221, 0.4402166688431943]\n",
      "Numero 8 valor [0.02960495037278288, 0.8228258127937347]\n",
      "Numero 9 valor [0.32250132033446477, 1.578752541001938]\n"
     ]
    }
   ],
   "source": [
    "import numpy as np\n",
    "totalNumeros = 10\n",
    "vectorDeNumeros=[]\n",
    "\n",
    "def mostrarVectorDeNumeros():\n",
    "    print(\"Mostrar vectos de \"+str(len(vectorDeNumeros))+\" numeros\")\n",
    "    for numero in xrange(len(vectorDeNumeros)):\n",
    "        print(\"Numero \"+str(numero)+\" valor \"+str(vectorDeNumeros[numero]))\n",
    "\n",
    "def llenarVectorDeNumeros():\n",
    "    print(\"Llenar vector con \"+str(totalNumeros)+\" numeros\")\n",
    "    for numero in xrange(totalNumeros):\n",
    "        if np.random.random()>0.5:\n",
    "            numeroAleatorio = [np.random.normal(0.0,0.9),np.random.normal(0.0,0.9)]\n",
    "        else:\n",
    "            numeroAleatorio = [np.random.normal(0.3,0.5),np.random.normal(1.0,0.5)]\n",
    "        vectorDeNumeros.append(numeroAleatorio)\n",
    "\n",
    "llenarVectorDeNumeros()\n",
    "mostrarVectorDeNumeros()"
   ]
  },
  {
   "cell_type": "code",
   "execution_count": 68,
   "metadata": {
    "collapsed": false
   },
   "outputs": [
    {
     "name": "stdout",
     "output_type": "stream",
     "text": [
      "Tensor(\"zeros_like_44:0\", shape=(?, 4), dtype=float32)\n",
      "Rsultado de vector inicializado con valor cero:\n"
     ]
    }
   ],
   "source": [
    "import tensorflow as tf\n",
    "import numpy as np\n",
    "\n",
    "variableFloat = tf.placeholder(tf.float32, shape=[None,4])\n",
    "#variableInt = tf.placeholder(tf.int32, shape=[3])\n",
    "\n",
    "tensorInicializadoConValorCero = tf.zeros_like(variableFloat)\n",
    "#tensorInicializadoConValorUno = tf.ones(variableInt)\n",
    "\n",
    "sess = tf.Session()\n",
    "resultadoTensorConValorCero = sess.run(tensorInicializadoConValorCero, feed_dict={variableFloat: np.random.rand(3,4)})\n",
    "print(tensorInicializadoConValorCero)\n",
    "#resultadoTensorConValorUno = sess.run(tensorInicializadoConValorUno, feed_dict={variableInt: np.random.rand(3)})\n",
    "\n",
    "\n",
    "print(\"Rsultado de vector inicializado con valor cero:\")\n",
    "#print(\"Shape: \"+str(tensorInicializadoConValorCero.shape))\n",
    "\n",
    "#print(\"Rsultado de vector inicializado con valor uno:\")\n",
    "#print(\"Shape: \"+str(tensorInicializadoConValorUno.shape))\n",
    "#print tensorInicializadoConValorUno"
   ]
  },
  {
   "cell_type": "code",
   "execution_count": 1,
   "metadata": {
    "collapsed": false
   },
   "outputs": [
    {
     "ename": "IndentationError",
     "evalue": "unexpected indent (<ipython-input-1-27f68a22eac9>, line 4)",
     "output_type": "error",
     "traceback": [
      "\u001b[0;36m  File \u001b[0;32m\"<ipython-input-1-27f68a22eac9>\"\u001b[0;36m, line \u001b[0;32m4\u001b[0m\n\u001b[0;31m    = tf.placeholder(tf.float32, shape=[None, 4])\u001b[0m\n\u001b[0m    ^\u001b[0m\n\u001b[0;31mIndentationError\u001b[0m\u001b[0;31m:\u001b[0m unexpected indent\n"
     ]
    }
   ],
   "source": [
    "import tensorflow as tf\n",
    "import numpy as np\n",
    "\n",
    " = tf.placeholder(tf.float32, shape=[None, 4])\n",
    "vector = tf.placeholder(tf.int32, shape=[4])\n",
    "\n",
    "tensorInicializadoConValorCero = tf.zeros_like(matriz)\n",
    "tensorInicializadoConValorUno = tf.ones(vector)\n",
    "\n",
    "print tensorInicializadoConValorCero.get_shape()\n",
    "\n",
    "with tf.Session() as sess:\n",
    "    resultadoConValoresCero = sess.run(matriz, feed_dict={matriz: np.random.rand(4, 4)})\n",
    "    resultadoConValoresUno = sess.run(vector, feed_dict={vector: np.random.rand(4)})\n",
    "\n",
    "    print resultadoConValoresCero\n",
    "    print resultadoConValoresUno"
   ]
  },
  {
   "cell_type": "code",
   "execution_count": 0,
   "metadata": {
    "collapsed": false
   },
   "outputs": [
   ],
   "source": [
   ]
  }
 ],
 "metadata": {
  "kernelspec": {
   "display_name": "Python 2 (SageMath)",
   "language": "python",
   "name": "python2"
  },
  "language_info": {
   "codemirror_mode": {
    "name": "ipython",
    "version": 2
   },
   "file_extension": ".py",
   "mimetype": "text/x-python",
   "name": "python",
   "nbconvert_exporter": "python",
   "pygments_lexer": "ipython2",
   "version": "2.7.13"
  }
 },
 "nbformat": 4,
 "nbformat_minor": 0
}