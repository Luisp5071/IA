{
 "cells": [
  {
   "cell_type": "raw",
   "metadata": {
    "collapsed": false
   },
   "source": [
   ]
  },
  {
   "cell_type": "raw",
   "metadata": {
    "collapsed": false
   },
   "source": [
    "# Funcion armax u obtener el valor mas alto de una fila.\n",
    "La funcion **argmax**, obtiene el vel indice del valor mas alto de un eje a travez de un tensor.\n",
    "\n",
    "## Argumentos\n",
    "\n",
    "- **input:** un tensor.\n",
    "- **axis:** es un tensor. Si es None (es el predeterminado) realize el analisis sobre todas las dimensiones. Este valor podria estar en un rango [-rank(input_tensor), rank(input_tensor))\n",
    "- **output_type:** es un parametro opcional, el valor predeterminado es tf.int64.\n",
    "- **name:** representa un nombre para la operacion, este parametro es opcional.\n",
    "\n",
    "\n",
    "```\n",
    "argmax(input,axis=None,name=None,dimension=None,output_type=tf.int64)\n",
    "```\n",
    "\n",
    "## Resultado\n",
    "El resultado de la operacion es un tensor\n",
    "\n",
    "## Note.\n",
    "\n",
    "En caso de empatar, la identidad del valor resultado no esta garantizado\n",
    "\n",
    "\n",
    "## Referencias\n",
    "*[Tensorflow.org (2,017). tf.argmax](https://www.tensorflow.org/api_docs/python/tf/argmax)"
   ]
  },
  {
   "cell_type": "code",
   "execution_count": 1,
   "metadata": {
    "collapsed": false
   },
   "outputs": [
    {
     "name": "stdout",
     "output_type": "stream",
     "text": [
      "resultado de argmax \n",
      "[0 3 2 4 0 1]\n",
      "resultado de argmax \n",
      "[0 0 1]\n"
     ]
    }
   ],
   "source": [
    "import numpy as np\n",
    "import tensorflow as tf\n",
    "\n",
    "sess = tf.InteractiveSession()\n",
    "\n",
    "datos = np.array([[31, 23,  4, 24, 27, 34],\n",
    "                [18,  3, 25,  0,  6, 35],\n",
    "                [28, 14, 33, 22, 20,  8],\n",
    "                [13, 30, 21, 19,  7,  9],\n",
    "                [16,  1, 26, 32,  2, 29],\n",
    "                [17, 12,  5, 11, 10, 15]])\n",
    "\n",
    "operacion = tf.argmax(datos)\n",
    "operacionResultado = sess.run(operacion)\n",
    "print(\"resultado de argmax \\n\"+str(operacionResultado))\n",
    "\n",
    "\n",
    "datos2 =np.array([[ 0,1,0],\n",
    "                 [0,0,1]])\n",
    "\n",
    "operacion2 = tf.argmax(datos2)\n",
    "operacion2Resultado = sess.run(operacion2)\n",
    "print(\"resultado de argmax \\n\"+str(operacion2Resultado))"
   ]
  }
 ],
 "metadata": {
  "kernelspec": {
   "display_name": "Python 3 (Anaconda)",
   "language": "python",
   "name": "anaconda3"
  },
  "language_info": {
   "codemirror_mode": {
    "name": "ipython",
    "version": 3
   },
   "file_extension": ".py",
   "mimetype": "text/x-python",
   "name": "python",
   "nbconvert_exporter": "python",
   "pygments_lexer": "ipython3",
   "version": "3.5.4"
  }
 },
 "nbformat": 4,
 "nbformat_minor": 0
}