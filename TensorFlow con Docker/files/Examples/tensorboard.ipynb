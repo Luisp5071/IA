{
 "cells": [
  {
   "cell_type": "code",
   "execution_count": 6,
   "metadata": {
    "collapsed": false
   },
   "outputs": [
    {
     "name": "stdout",
     "output_type": "stream",
     "text": [
      "63\n"
     ]
    }
   ],
   "source": [
    "import tensorflow as tf\n",
    "\n",
    "a = tf.add(1, 2,name='add1')\n",
    "b = tf.multiply(a, 3,name='mul1')\n",
    "c = tf.add(4, 5,name='add2')\n",
    "d = tf.multiply(c, 6,name='mul2')\n",
    "e = tf.multiply(4, 5,name='mul3')\n",
    "f = tf.div(c, 6,name='div1')\n",
    "g = tf.add(b, d,name='add3')\n",
    "h = tf.multiply(g, f,name='mul4')\n",
    "\n",
    "with tf.Session() as sess:\n",
    "\twriter = tf.summary.FileWriter(\"/tmp/tensorflow/\", sess.graph)\n",
    "\tprint(sess.run(h))\n",
    "\twriter.close()"
   ]
  },
  {
   "cell_type": "code",
   "execution_count": 5,
   "metadata": {
    "collapsed": false
   },
   "outputs": [
    {
     "name": "stdout",
     "output_type": "stream",
     "text": [
      "12.0\n"
     ]
    }
   ],
   "source": [
    "# RANK 0, multiply constants\n",
    "import tensorflow as tf\n",
    "\n",
    "valueOne=tf.placeholder(\"float\",name='valueOne')\n",
    "valueTwo=tf.placeholder(\"float\",name='valueTwo')\n",
    "\n",
    "tensor = tf.multiply(valueOne,valueTwo,name='multiply')\n",
    "\n",
    "with tf.Session() as sess:\n",
    "    writer = tf.summary.FileWriter(\"/tmp/tensorflow/\", sess.graph)\n",
    "    print sess.run(tensor,feed_dict={valueOne:3,valueTwo:4})"
   ]
  },
  {
   "cell_type": "code",
   "execution_count": null,
   "metadata": {
    "collapsed": true
   },
   "outputs": [],
   "source": []
  }
 ],
 "metadata": {
  "kernelspec": {
   "display_name": "Python 2",
   "language": "python",
   "name": "python2"
  },
  "language_info": {
   "codemirror_mode": {
    "name": "ipython",
    "version": 2
   },
   "file_extension": ".py",
   "mimetype": "text/x-python",
   "name": "python",
   "nbconvert_exporter": "python",
   "pygments_lexer": "ipython2",
   "version": "2.7.6"
  }
 },
 "nbformat": 4,
 "nbformat_minor": 2
}
